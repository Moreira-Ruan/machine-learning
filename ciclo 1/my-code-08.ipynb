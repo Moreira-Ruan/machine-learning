{
 "cells": [
  {
   "metadata": {
    "ExecuteTime": {
     "end_time": "2025-03-31T13:51:51.365357Z",
     "start_time": "2025-03-31T13:51:51.361699Z"
    }
   },
   "cell_type": "code",
   "source": [
    "# Solucao do labirinto utilizando BFS (Busca em largura)\n",
    "\n",
    "def solveMazeBFS(maze):\n",
    "    fila = [(inicio, [])]\n",
    "    visitados = set()\n",
    "\n",
    "    while fila:\n",
    "        pos, caminho = fila.pop(0)\n",
    "        if pos == fim:\n",
    "            return caminho\n",
    "\n",
    "        for viz in vizinhos(pos):\n",
    "            if viz not in visitados:\n",
    "                visitados.add(viz)\n",
    "                fila.append(\n",
    "                    (viz, caminho + [viz])\n",
    "                )"
   ],
   "id": "4a83ea24dfd2452d",
   "outputs": [],
   "execution_count": 1
  },
  {
   "metadata": {
    "ExecuteTime": {
     "end_time": "2025-03-31T13:53:41.508873Z",
     "start_time": "2025-03-31T13:53:41.505781Z"
    }
   },
   "cell_type": "code",
   "source": [
    "# Solucao do labirinto DFS (Busca em profundidade)\n",
    "\n",
    "def solveMazeDFS(maze):\n",
    "    pilha = [(inicio, [])]\n",
    "    visitados = set()\n",
    "\n",
    "    while pilha:\n",
    "        pos, caminho = pilha.pop()\n",
    "        if pos == fim:\n",
    "            return caminho\n",
    "\n",
    "        for viz in vizinhos(pos):\n",
    "            if viz not in visitados:\n",
    "                visitados.add(viz)\n",
    "                pilha.append(\n",
    "                    (viz, caminho + [viz])\n",
    "                )\n"
   ],
   "id": "ae3c57281a61f199",
   "outputs": [],
   "execution_count": 2
  },
  {
   "metadata": {
    "ExecuteTime": {
     "end_time": "2025-03-31T13:57:46.506909Z",
     "start_time": "2025-03-31T13:57:46.503164Z"
    }
   },
   "cell_type": "code",
   "source": [
    "# Solucao exercicio 1: Implementacao de BFS em um grafo\n",
    "\n",
    "from collections import deque\n",
    "\n",
    "def bfs_shortest_path(graph, start, end):\n",
    "    # Fila para BFS\n",
    "    queue = deque([[start]])\n",
    "    # Conjunto para rastrear nós visitados\n",
    "    visited = {start}\n",
    "\n",
    "    while queue:\n",
    "        path = queue.popleft()\n",
    "        node = path[-1]\n",
    "\n",
    "        # Se encontrou o destino, retorna o caminho\n",
    "        if node == end:\n",
    "            return path\n",
    "\n",
    "        # Explora os vizinhos não visitados\n",
    "        for neighbor in graph[node]:\n",
    "            if neighbor not in visited:\n",
    "                visited.add(neighbor)\n",
    "                queue.append(path + [neighbor])\n",
    "\n",
    "    return None\n",
    "\n",
    "# Exemplo de uso:\n",
    "grafo = {\n",
    "    'A': ['B', 'C'],\n",
    "    'B': ['A', 'D', 'E'],\n",
    "    'C': ['A', 'F'],\n",
    "    'D': ['B'],\n",
    "    'E': ['B', 'F'],\n",
    "    'F': ['C', 'E']\n",
    "}\n",
    "\n",
    "caminho = bfs_shortest_path(grafo, 'A', 'F')\n",
    "print(f\"Caminho mais curto: {' -> '.join(caminho)}\")"
   ],
   "id": "c01a8cd3d5c3e668",
   "outputs": [
    {
     "name": "stdout",
     "output_type": "stream",
     "text": [
      "Caminho mais curto: A -> C -> F\n"
     ]
    }
   ],
   "execution_count": 3
  },
  {
   "metadata": {
    "ExecuteTime": {
     "end_time": "2025-03-31T14:00:51.836237Z",
     "start_time": "2025-03-31T14:00:51.833239Z"
    }
   },
   "cell_type": "code",
   "source": [
    "# Solucao exercicio 2: Heuristica para o problema do Caixeiro Viajante\n",
    "\n",
    "def vizinho_mais_proximo(cidades, distancias):\n",
    "    n = len(cidades)\n",
    "    nao_visitadas = set(range(1, n)) # Exclui cidade inicial\n",
    "    atual = 0 # Começa pela primeira cidade\n",
    "    caminho = [atual]\n",
    "    custo_total = 0\n",
    "\n",
    "    while nao_visitadas:\n",
    "        prox = min(nao_visitadas,\n",
    "            key=lambda x: distancias[atual][x])\n",
    "        custo_total += distancias[atual][prox]\n",
    "        atual = prox\n",
    "        caminho.append(atual)\n",
    "        nao_visitadas.remove(atual)\n",
    "\n",
    "    # Retorna à cidade inicial\n",
    "    caminho.append(0)\n",
    "    custo_total += distancias[atual][0]\n",
    "\n",
    "    return caminho, custo_total"
   ],
   "id": "b18c084f2f529848",
   "outputs": [],
   "execution_count": 4
  },
  {
   "metadata": {
    "ExecuteTime": {
     "end_time": "2025-03-31T14:03:13.684626Z",
     "start_time": "2025-03-31T14:03:13.681Z"
    }
   },
   "cell_type": "code",
   "source": [
    "# Solucao exercicio 3: Implementacao de busca cega para o problema do caixeiro viajante\n",
    "\n",
    "def busca_cega_caixeiro_viajante(cidades, distancias):\n",
    "    from itertools import permutations\n",
    "    n = len(cidades)\n",
    "    melhor_caminho = None\n",
    "    menor_distancia = float('inf')\n",
    "\n",
    "    # Gera todas as permutações possíveis\n",
    "    for perm in permutations(range(1, n)):\n",
    "        caminho = (0,) + perm + (0,)\n",
    "        distancia = 0\n",
    "\n",
    "        # Calcula distância total do caminho\n",
    "        for i in range(len(caminho) - 1):\n",
    "            distancia += distancias[caminho[i]][caminho[i+1]]\n",
    "\n",
    "        # Atualiza melhor caminho se necessário\n",
    "        if distancia < menor_distancia:\n",
    "            menor_distancia = distancia\n",
    "            melhor_caminho = caminho\n",
    "\n",
    "    return list(melhor_caminho), menor_distancia"
   ],
   "id": "245e7c20cc08f7e8",
   "outputs": [],
   "execution_count": 6
  },
  {
   "metadata": {
    "ExecuteTime": {
     "end_time": "2025-03-31T14:06:03.355012Z",
     "start_time": "2025-03-31T14:06:03.351949Z"
    }
   },
   "cell_type": "code",
   "source": [
    "# Solucao exercicio 4: Otimizacao de recursos em problema real\n",
    "\n",
    "class RecursoFabrica:\n",
    "    def __init__(self, capacidade, custo):\n",
    "        self.capacidade = capacidade\n",
    "        self.custo = custo\n",
    "        self.alocacao = []\n",
    "\n",
    "def otimizar_recursos(recursos, demandas, setup_times):\n",
    "    # Inicialização\n",
    "    n_recursos = len(recursos)\n",
    "    n_produtos = len(demandas)\n",
    "\n",
    "    # Função objetivo\n",
    "    def custo_total(solucao):\n",
    "        custo = 0\n",
    "        # Calcular custos operacionais\n",
    "        # Adicionar custos de setup\n",
    "        return custo\n",
    "\n",
    "    # Restrições\n",
    "    def verifica_restricoes(solucao):\n",
    "        # Verificar capacidade\n",
    "        # Verificar demanda mínima\n",
    "        return True"
   ],
   "id": "3f9373091bfaff65",
   "outputs": [],
   "execution_count": 7
  },
  {
   "metadata": {
    "ExecuteTime": {
     "end_time": "2025-03-31T14:09:50.542018Z",
     "start_time": "2025-03-31T14:09:50.537874Z"
    }
   },
   "cell_type": "code",
   "source": [
    "# Solucao exercicio 3: Implementacao do A* para encontrar o caminho\n",
    "\n",
    "class Node:\n",
    "    def __init__(self, pos, g=float('inf'),\n",
    "h=0):\n",
    "        self.pos = pos # (x, y)\n",
    "        self.g = g # custo atual\n",
    "        self.h = h # heurística\n",
    "        self.f = g + h # custo total\n",
    "        self.parent = None # nó pai\n",
    "\n",
    "def heuristica(pos, objetivo):\n",
    "    return abs(pos[0] - objetivo[0]) + abs(pos[1] - objetivo[1])\n",
    "\n",
    "def astar(mapa, inicio, objetivo):\n",
    "    aberta = [] # Lista de nós a explorar\n",
    "    fechada = set() # Nós já explorados\n",
    "\n",
    "    # Inicializa nó inicial\n",
    "    node_inicial = Node(inicio, 0, heuristica(inicio, objetivo))\n",
    "    heapq.heappush(aberta, (node_inicial.f, node_inicial))\n",
    "\n",
    "    while aberta:\n",
    "        atual = heapq.heappop(aberta)[1]\n",
    "        if atual.pos == objetivo:\n",
    "            return reconstroi_caminho(atual)\n",
    "\n",
    "    # Explore vizinhos..."
   ],
   "id": "bab0e75309be4f83",
   "outputs": [],
   "execution_count": 8
  }
 ],
 "metadata": {
  "kernelspec": {
   "name": "python3",
   "language": "python",
   "display_name": "Python 3 (ipykernel)"
  }
 },
 "nbformat": 5,
 "nbformat_minor": 9
}
