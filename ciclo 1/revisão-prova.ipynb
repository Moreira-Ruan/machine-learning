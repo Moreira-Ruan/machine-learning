{
 "cells": [
  {
   "metadata": {
    "ExecuteTime": {
     "end_time": "2025-03-14T17:39:20.515112Z",
     "start_time": "2025-03-14T17:39:20.512095Z"
    }
   },
   "cell_type": "code",
   "source": [
    "import numpy as np\n",
    "\n",
    "df = np.array([1, 2, 3, 4, 5])\n",
    "\n",
    "df.mean()\n",
    "\n",
    "print(df)\n",
    "print(f'Media = {df.mean()}')"
   ],
   "id": "f5e9b420509a627a",
   "outputs": [
    {
     "name": "stdout",
     "output_type": "stream",
     "text": [
      "[1 2 3 4 5]\n",
      "Media = 3.0\n"
     ]
    }
   ],
   "execution_count": 2
  },
  {
   "metadata": {
    "ExecuteTime": {
     "end_time": "2025-03-14T17:43:38.260949Z",
     "start_time": "2025-03-14T17:43:38.258731Z"
    }
   },
   "cell_type": "code",
   "source": [
    "# Limpeza de dados\n",
    "# Remocao de valores ausentes\n",
    "\n",
    "import pandas as pd\n",
    "\n",
    "df.dropna() # Remove linhas com valores ausentes\n",
    "df.fillna(df.mean()) # Substitui valores ausentes pela média da coluna\n"
   ],
   "id": "3bcc6291f1154664",
   "outputs": [],
   "execution_count": 6
  },
  {
   "metadata": {},
   "cell_type": "code",
   "outputs": [],
   "execution_count": null,
   "source": [
    "# Tratamento de outliers\n",
    "# Utilizando Z-score\n",
    "\n",
    "from scipy import stats\n",
    "df = df[(stats.zscore(df) < 3).all(axis=1)] # Remove valores com Z-score maior que 3\n"
   ],
   "id": "a612f02c33b0f74c"
  },
  {
   "metadata": {},
   "cell_type": "code",
   "outputs": [],
   "execution_count": null,
   "source": [
    "# Normalizacao\n",
    "# Escalar os valores em um intervalo geralmente entre 0 e 1\n",
    "\n",
    "from sklearn.preprocessing import MinMaxScaler\n",
    "\n",
    "scaler = MinMaxScaler()\n",
    "\n",
    "df[['coluna']] = scaler.fit_transform(df[['coluna']])"
   ],
   "id": "c2f7cdd312f4c1db"
  },
  {
   "metadata": {},
   "cell_type": "code",
   "outputs": [],
   "execution_count": null,
   "source": [
    "# Padronizacao\n",
    "# Transforma os dados para ter media 0 e desvio padrao 1\n",
    "\n",
    "from sklearn.preprocessing import StandardScaler\n",
    "\n",
    "scaler = StandardScaler()\n",
    "\n",
    "df[['coluna']] = scaler.fit_transform(df[['coluna']])"
   ],
   "id": "d98a684a9a368318"
  },
  {
   "metadata": {
    "ExecuteTime": {
     "end_time": "2025-03-14T18:00:56.787693Z",
     "start_time": "2025-03-14T18:00:56.785234Z"
    }
   },
   "cell_type": "code",
   "source": [
    "# Transformacao de dados\n",
    "# Sao necessarias quando os dados precisam ser convertidos em um formato adequado para o modelo\n",
    "# One-hot encoding (Transforma variaveis categoricas em variaveis binarias\n",
    "\n",
    "import pandas as pd\n",
    "from sklearn.preprocessing import LabelEncoder\n",
    "\n",
    "pd.get_dummies(df, columns=['cor'])\n",
    "\n",
    "# Label encoding (Converte categorias em numeros inteiros)\n",
    "# Exemplo [baixo, medio, alto] -> [0, 1, 2]\n",
    "\n",
    "encoder = LabelEncoder()\n",
    "\n",
    "df['cor'] = encoder.fit_transform(df['cor'])"
   ],
   "id": "2bc2d9b02449e0f1",
   "outputs": [],
   "execution_count": 7
  },
  {
   "metadata": {
    "ExecuteTime": {
     "end_time": "2025-03-14T18:11:17.303038Z",
     "start_time": "2025-03-14T18:11:17.296841Z"
    }
   },
   "cell_type": "code",
   "source": [
    "import pandas as pd\n",
    "import numpy as np\n",
    "\n",
    "# Criando um array com numpy\n",
    "array = np.array([1, 2, 3, 4, 5])\n",
    "print(f'Media = {array.mean()}')\n",
    "\n",
    "# Criando um dataframe com pandas\n",
    "df = pd.DataFrame({'Nome': ['A', 'B', 'C'], 'Idade': [10, 15, 20]})\n",
    "print(df)\n",
    "print(df.describe())"
   ],
   "id": "e8dbb5ff9c316820",
   "outputs": [
    {
     "name": "stdout",
     "output_type": "stream",
     "text": [
      "Media = 3.0\n",
      "  Nome  Idade\n",
      "0    A     10\n",
      "1    B     15\n",
      "2    C     20\n",
      "       Idade\n",
      "count    3.0\n",
      "mean    15.0\n",
      "std      5.0\n",
      "min     10.0\n",
      "25%     12.5\n",
      "50%     15.0\n",
      "75%     17.5\n",
      "max     20.0\n"
     ]
    }
   ],
   "execution_count": 10
  },
  {
   "metadata": {
    "ExecuteTime": {
     "end_time": "2025-03-14T18:23:02.634243Z",
     "start_time": "2025-03-14T18:23:01.968370Z"
    }
   },
   "cell_type": "code",
   "source": [
    "# Graficos com matplotlib\n",
    "\n",
    "import matplotlib.pyplot as plt\n",
    "import numpy as np\n",
    "\n",
    "# Criando grafico de dispersao\n",
    "x = np.random.rand(10)\n",
    "y = np.random.rand(10)\n",
    "plt.scatter(x, y)\n",
    "plt.xlabel('X')\n",
    "plt.ylabel('Y')\n",
    "plt.title('Scatter Plot (Grafico de dispersao)')\n",
    "plt.show()"
   ],
   "id": "cdb6db574e9aa578",
   "outputs": [
    {
     "data": {
      "text/plain": [
       "<Figure size 640x480 with 1 Axes>"
      ],
      "image/png": "[encoded data removed]"
     },
     "metadata": {},
     "output_type": "display_data"
    }
   ],
   "execution_count": 11
  },
  {
   "metadata": {
    "ExecuteTime": {
     "end_time": "2025-03-14T18:52:17.083071Z",
     "start_time": "2025-03-14T18:52:13.193240Z"
    }
   },
   "cell_type": "code",
   "source": [
    "# Classificacao com scikit-learn\n",
    "# Exemplo de modelo com regressao\n",
    "\n",
    "import pandas as pd\n",
    "from sklearn.model_selection import train_test_split\n",
    "from sklearn.linear_model import LogisticRegression\n",
    "from sklearn.metrics import accuracy_score\n",
    "\n",
    "# Carregar dataset\n",
    "df = pd.read_csv('https://raw.githubusercontent.com/mwaskom/seaborn-data/master/iris.csv')\n",
    "x = df[['sepal_length', 'sepal_width', 'petal_length', 'petal_width']]\n",
    "y = df['species']\n",
    "\n",
    "# Dividir treino e teste\n",
    "x_train, x_test, y_train, y_test = train_test_split(x, y, test_size=0.3, random_state=42)\n",
    "\n",
    "# Treinar o modelo\n",
    "modelo = LogisticRegression()\n",
    "modelo.fit(x_train, y_train)\n",
    "\n",
    "# testar o modelo\n",
    "y_pred = modelo.predict(x_test)\n",
    "print('Acuracia:', accuracy_score(y_test, y_pred))"
   ],
   "id": "8b59dfc47993586b",
   "outputs": [
    {
     "name": "stdout",
     "output_type": "stream",
     "text": [
      "Acuracia: 1.0\n"
     ]
    }
   ],
   "execution_count": 12
  },
  {
   "metadata": {
    "ExecuteTime": {
     "end_time": "2025-03-14T19:53:02.156226Z",
     "start_time": "2025-03-14T19:53:02.152013Z"
    }
   },
   "cell_type": "code",
   "source": [
    "# Implementacao de algoritmos de busca\n",
    "# BFS (Bredth first search)\n",
    "\n",
    "from collections import deque\n",
    "\n",
    "def bfs(graph, start, goal):\n",
    "    queue = deque([[start]])\n",
    "    visited = set()\n",
    "\n",
    "    while queue:\n",
    "        path = queue.popleft()\n",
    "        node = path[-1]\n",
    "\n",
    "        if node == goal:\n",
    "            return path\n",
    "\n",
    "        for neighbor in graph.get(node, []):\n",
    "            if neighbor not in visited:\n",
    "                visited.add(neighbor)\n",
    "                queue.append(path + [neighbor])\n",
    "\n",
    "    return None\n",
    "\n",
    "graph = {\n",
    "    'A': ['B', 'C'],\n",
    "    'B': ['D', 'E'],\n",
    "    'C': ['F'],\n",
    "    'D': [],\n",
    "    'E': ['F'],\n",
    "    'F': []\n",
    "}\n",
    "\n",
    "print(\"Caminho BFS:\", bfs(graph, 'A', 'F'))"
   ],
   "id": "bf110210cabeec69",
   "outputs": [
    {
     "name": "stdout",
     "output_type": "stream",
     "text": [
      "Caminho BFS: ['A', 'C', 'F']\n"
     ]
    }
   ],
   "execution_count": 13
  },
  {
   "metadata": {
    "ExecuteTime": {
     "end_time": "2025-03-14T19:53:33.193904Z",
     "start_time": "2025-03-14T19:53:33.185819Z"
    }
   },
   "cell_type": "code",
   "source": [
    "# Implementacao do algoritmo A*\n",
    "\n",
    "import heapq\n",
    "\n",
    "def heuristica(a, b):\n",
    "    return abs(a[0] - b[0]) + abs(a[1] - b[1])  # Distância de Manhattan\n",
    "\n",
    "def a_star(mapa, inicio, objetivo):\n",
    "    lista_aberta = []\n",
    "    heapq.heappush(lista_aberta, (0, inicio))\n",
    "    caminho = {inicio: None}\n",
    "    g_score = {inicio: 0}\n",
    "\n",
    "    while lista_aberta:\n",
    "        _, atual = heapq.heappop(lista_aberta)\n",
    "\n",
    "        if atual == objetivo:\n",
    "            caminho_reconstruido = []\n",
    "            while atual:\n",
    "                caminho_reconstruido.append(atual)\n",
    "                atual = caminho[atual]\n",
    "            return caminho_reconstruido[::-1]\n",
    "\n",
    "        for vizinho in [(0,1), (0,-1), (1,0), (-1,0)]:  # Movimentos possíveis\n",
    "            novo = (atual[0] + vizinho[0], atual[1] + vizinho[1])\n",
    "\n",
    "            if novo not in mapa:\n",
    "                continue\n",
    "\n",
    "            novo_g = g_score[atual] + 1\n",
    "            if novo not in g_score or novo_g < g_score[novo]:\n",
    "                g_score[novo] = novo_g\n",
    "                prioridade = novo_g + heuristica(novo, objetivo)\n",
    "                heapq.heappush(lista_aberta, (prioridade, novo))\n",
    "                caminho[novo] = atual\n",
    "\n",
    "    return None\n",
    "\n",
    "mapa = {(x, y) for x in range(5) for y in range(5)}\n",
    "inicio = (0, 0)\n",
    "objetivo = (4, 4)\n",
    "\n",
    "print(\"Caminho A*:\", a_star(mapa, inicio, objetivo))\n"
   ],
   "id": "d7f99d87ab02411a",
   "outputs": [
    {
     "name": "stdout",
     "output_type": "stream",
     "text": [
      "Caminho A*: [(0, 0), (0, 1), (0, 2), (0, 3), (0, 4), (1, 4), (2, 4), (3, 4), (4, 4)]\n"
     ]
    }
   ],
   "execution_count": 14
  }
 ],
 "metadata": {
  "kernelspec": {
   "name": "python3",
   "language": "python",
   "display_name": "Python 3 (ipykernel)"
  }
 },
 "nbformat": 5,
 "nbformat_minor": 9
}
